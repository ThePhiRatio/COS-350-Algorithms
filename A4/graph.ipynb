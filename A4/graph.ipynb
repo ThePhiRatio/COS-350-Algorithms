{
 "cells": [
  {
   "cell_type": "markdown",
   "metadata": {},
   "source": [
    "# Graph Homework Notebook"
   ]
  },
  {
   "cell_type": "markdown",
   "metadata": {},
   "source": [
    "By: Nicholas Soucy"
   ]
  },
  {
   "cell_type": "markdown",
   "metadata": {},
   "source": [
    "This notebook allows the user to impliment graphs in three different representation types, Adjacency List, Edge List, and Adjacency Matrix. The user is able to create weighted, unweighted and directed or undirected graphs using any of the three graph representation types."
   ]
  },
  {
   "cell_type": "markdown",
   "metadata": {},
   "source": [
    "All graph representation classes are subclasses of 'Graph'. Each graph representation supports a number of graph related functions. These functions are: adding and deleting a vertex or edge, reporting all vertices, reporting all edges, return a list description of the graph, finding an edge or vertex, return a list of incident edges and adjacent vertices, return the cost of an edge for a weighted graph, return the path cost of a list of vertices, and adjacent to and incident to functions that are boolean functions."
   ]
  },
  {
   "cell_type": "markdown",
   "metadata": {},
   "source": [
    "In addition to those graph related functions, a depth first traversal method is implimented to have any graph representation be passed and return a spanning tree around the given vertex. "
   ]
  },
  {
   "cell_type": "markdown",
   "metadata": {},
   "source": [
    "## Given Graph Class Code"
   ]
  },
  {
   "cell_type": "code",
   "execution_count": 1,
   "metadata": {},
   "outputs": [],
   "source": [
    "class Graph ():\n",
    "\n",
    "    def __init__(self,graph_desc=None,properties=None):\n",
    "\n",
    "        self.properties = properties\n",
    "\n",
    "        self.vertices = []      #List of vertex objects to preserve order in graph             \n",
    "\n",
    "        if graph_desc:\n",
    "            if properties == None:\n",
    "                self.properties = [graph_desc[0]]\n",
    "            else:\n",
    "                self.properties.append(graph_desc[0])\n",
    "    \n",
    "    def find_vertex(self,name):\n",
    "        for v in range(0,len(self.vertices)):\n",
    "            if self.vertices[v].name == name:\n",
    "                return v\n",
    "        return None\n",
    "\n",
    "    def all_vertices(self,desc):\n",
    "        all_vert = []\n",
    "        if desc == ['name']:\n",
    "            for v in range(0,len(self.vertices)):\n",
    "                all_vert.append(self.vertices[v].name)\n",
    "        elif desc == ['vert']:\n",
    "            for v in range(0,len(self.vertices)):\n",
    "                all_vert.append(Vertex(self,self.vertices[v].name))\n",
    "\n",
    "        return all_vert\n",
    "\n",
    "    def incident_to(self,vertex,edge):\n",
    "        if isinstance(edge, Edge):\n",
    "            if self.find_edge(edge.v1,edge.v2) is not None:\n",
    "                if vertex == edge.v1 or vertex == edge.v2:\n",
    "                    return True\n",
    "                else:\n",
    "                    return False\n",
    "            else:\n",
    "                return False\n",
    "        else:\n",
    "            if self.find_edge(edge[0],edge[1]) is not None:\n",
    "                if vertex == edge[0] or vertex == edge[1]:\n",
    "                    return True\n",
    "                else:\n",
    "                    return False\n",
    "            else:\n",
    "                return False\n",
    "\n",
    "    def to_list(self):\n",
    "        if 'digraph' in self.properties:\n",
    "            output = ['digraph']\n",
    "        else:\n",
    "            output = ['graph']\n",
    "\n",
    "        for vname in self.vertices:\n",
    "            output.append([vname.name])\n",
    "\n",
    "        ListEdge = self.all_edges(['name'])\n",
    "        for e in ListEdge:\n",
    "            output.append(e)\n",
    "\n",
    "        return output\n",
    "\n",
    "    def to_gv(self):\n",
    "        desc = self.to_list()\n",
    "\n",
    "        print(desc[0], \" {\")\n",
    "\n",
    "        if desc[0] == 'digraph':\n",
    "            sep = \" -> \"\n",
    "        else:\n",
    "            sep = \" -- \"\n",
    "            \n",
    "        for thing in desc[1:]:\n",
    "            if len(thing) == 1:  # vertex\n",
    "                print('   ', thing[0])\n",
    "            elif len(thing) > 2: # edge, weight exists\n",
    "                print('   ', thing[0], sep, thing[1], ' ', '[weight=\"', thing[2],\n",
    "                      '\"]')\n",
    "            else: #no weight\n",
    "                print('   ', thing[0],sep,thing[1])\n",
    "        print('}')\n",
    "    \n",
    "    def dft(self,vertex):\n",
    "        global time\n",
    "        global span\n",
    "        \n",
    "        #create the spanning tree based on the type of graph and graph representation\n",
    "        if isinstance(self,AdjList):\n",
    "            if 'digraph' in self.properties:\n",
    "                span = AdjList(['digraph'])\n",
    "            else:\n",
    "                span = AdjList(['graph'])\n",
    "        elif isinstance(self,EdgeList):\n",
    "            if 'digraph' in self.properties:\n",
    "                span = EdgeList(['digraph'])\n",
    "            else:\n",
    "                span = EdgeList(['graph'])\n",
    "        elif isinstance(self,AdjMatrix):\n",
    "            if 'digraph' in self.properties:\n",
    "                span = AdjMatrix(['digraph'])\n",
    "            else:\n",
    "                span = AdjMatrix(['graph'])\n",
    "\n",
    "\n",
    "        #Reset all dft vertex variables\n",
    "        for v in self.vertices:\n",
    "            v.color = 'black'\n",
    "            v.discovery = 0\n",
    "            v.finish = 0\n",
    "\n",
    "        time = 1\n",
    "        self._dft(vertex)\n",
    "        #all vertices are blue, return spanning tree\n",
    "        return span\n",
    "\n",
    "    def _dft(self,vertex):\n",
    "        global time\n",
    "        global span\n",
    "        #first time visiting vertex, paint red, then add to spanning tree\n",
    "        self.vertices[self.find_vertex(vertex)].color = 'red'\n",
    "        span.add_vertex(vertex)\n",
    "        self.vertices[self.find_vertex(vertex)].discovery = time\n",
    "        time += 1\n",
    "        #search through the neighbors of the vertex and recursively call\n",
    "        for v in self.adjacent_vertices(vertex): \n",
    "            if self.vertices[self.find_vertex(v)].color == 'black':\n",
    "                if self.edge_cost(vertex,v) == -1:\n",
    "                    span.add_edge(vertex,v)\n",
    "                else:\n",
    "                    span.add_edge(vertex,v,self.edge_cost(vertex,v))\n",
    "                self._dft(v)\n",
    "        #all neighbors of current vertex have been vistied, paint blue\n",
    "        self.vertices[self.find_vertex(vertex)].color = 'blue'\n",
    "        self.vertices[self.find_vertex(vertex)].finish = time\n",
    "        time += 1"
   ]
  },
  {
   "cell_type": "markdown",
   "metadata": {},
   "source": [
    "Here are the Vertex and Edge classes:"
   ]
  },
  {
   "cell_type": "code",
   "execution_count": 2,
   "metadata": {},
   "outputs": [],
   "source": [
    "class Vertex ():\n",
    "    def __init__(self,graph,name,color=None):\n",
    "        #For graph\n",
    "        self.graph = graph\n",
    "        self.name = name\n",
    "\n",
    "        #For dft\n",
    "        self.discovery = 0\n",
    "        self.finish = 0\n",
    "        self.color = 'black'\n",
    "\n",
    "class Edge ():\n",
    "    def __init__(self,graph,v1,v2,weight=None):\n",
    "        self.graph = graph\n",
    "        self.v1 = v1\n",
    "        self.v2 = v2\n",
    "        self.weight = weight"
   ]
  },
  {
   "cell_type": "markdown",
   "metadata": {},
   "source": [
    "## Homework Classes"
   ]
  },
  {
   "cell_type": "markdown",
   "metadata": {},
   "source": [
    "### Adjacency List Class"
   ]
  },
  {
   "cell_type": "markdown",
   "metadata": {},
   "source": [
    "The Adjacency List Class impliments the graph via a list of list. The named vertices are stored in a vertex list in the form of a Vertex object. The Adjacency list class uses only numbers to repersent vertices in the graph, using the index of the named vertex in the vertex list as the number. This allows us to perform numeric operations easily, while having the user being able to input named vertices."
   ]
  },
  {
   "cell_type": "markdown",
   "metadata": {},
   "source": [
    "The Adjacency List will be a list where each index is the base vertices. In each element, there will be a list of all vertices that are connected to the given vertex, along with the weight of the edge."
   ]
  },
  {
   "cell_type": "code",
   "execution_count": 3,
   "metadata": {},
   "outputs": [],
   "source": [
    "class AdjList(Graph):\n",
    "    def __init__(self,graph_desc=None,properties=None):\n",
    "        super().__init__(graph_desc,properties)\n",
    "        self.adj_list = []\n",
    "\n",
    "    def add_vertex(self,name):\n",
    "        for v in self.vertices:\n",
    "            if v.name == name:\n",
    "                return None\n",
    "            \n",
    "        self.vertices.append(Vertex(self,name))\n",
    "        self.adj_list.append([])\n",
    "\n",
    "    def delete_vertex(self,name):\n",
    "        if self.find_vertex(name) is not None:\n",
    "            #remove all edges that connect to that vertex\n",
    "            for i in range (0,len(self.adj_list)):\n",
    "                for j in self.adj_list[i].copy():\n",
    "                    #if the element contain the vertex you want to delete, remove it\n",
    "                    if self.find_vertex(name) == j[0]:\n",
    "                        self.adj_list[i].remove(j)\n",
    "                    #if it doesnt contain the vertex you want to delete, shift it.\n",
    "                    elif j[0] > self.find_vertex(name):\n",
    "                        j[0] = j[0] -1\n",
    "\n",
    "            #remove vertex from adj list\n",
    "            del self.adj_list[self.find_vertex(name)]\n",
    "\n",
    "            #remove vertex from vert list\n",
    "            del self.vertices[self.find_vertex(name)]\n",
    "        else:\n",
    "            print(\"Vertex \"+name+\" does not exist!\")\n",
    "\n",
    "    def add_edge(self,v1,v2,weight=None):\n",
    "        #if vertex v1 doesnt exist, add it\n",
    "        if self.find_vertex(v1) == None:\n",
    "            self.add_vertex(v1)\n",
    "        #if vertex v2 doesnt exist, add it\n",
    "        if self.find_vertex(v2) == None:\n",
    "            self.add_vertex(v2)\n",
    "        #if edge doesn't already exist, add it\n",
    "        if self.find_edge(v1,v2) == None:\n",
    "            self.adj_list[self.find_vertex(v1)].append([self.find_vertex(v2),weight])\n",
    "            if 'digraph' not in self.properties:\n",
    "                self.adj_list[self.find_vertex(v2)].append([self.find_vertex(v1),weight])\n",
    "\n",
    "    def delete_edge(self,v1,v2):\n",
    "        #Search in the list of the given source vertex\n",
    "        if (self.find_vertex(v1) is not None) and (self.find_vertex(v2) is not None) and (self.find_edge(v1,v2) is not None):\n",
    "            for i in self.adj_list[self.find_vertex(v1)].copy():\n",
    "                #if the dest vertex is in the source list, delete it\n",
    "                if self.find_vertex(v2) == i[0]:\n",
    "                    self.adj_list[self.find_vertex(v1)].remove(i)\n",
    "                    break\n",
    "                    #if it is an undirected graph\n",
    "            if 'digraph' not in self.properties:\n",
    "                #search through the list of the dest vertex\n",
    "                for j in self.adj_list[self.find_vertex(v2)].copy():\n",
    "                    #if the source vertex is in the dest vertex list, delete it\n",
    "                    if self.find_vertex(v1) == j[0]:\n",
    "                        self.adj_list[self.find_vertex(v2)].remove(j)\n",
    "                        break\n",
    "        else:\n",
    "            print(\"Edge from \"+v1+\" to \"+v2+\" does not exist!\")\n",
    "\n",
    "    def all_edges(self,spec):\n",
    "        list_edges = []\n",
    "        if spec == ['name']: \n",
    "            #go through each element in list\n",
    "            for i in range (0,len(self.adj_list)):\n",
    "                #go through each element in the list of list\n",
    "                for j in range (0,len(self.adj_list[i])):\n",
    "                    #append edge info to edge list\n",
    "                    list_edges.append([self.vertices[i].name,self.vertices[self.adj_list[i][j][0]].name,self.adj_list[i][j][1]])\n",
    "        elif spec == ['edge']:\n",
    "            #go through each element in list\n",
    "            for i in range (0,len(self.adj_list)):\n",
    "                #go through each element in the list of list\n",
    "                for j in range (0,len(self.adj_list[i])):\n",
    "                    #append edge info to edge list\n",
    "                    list_edges.append(Edge(self.vertices[i].name,self.vertices[self.adj_list[i][j][0]].name,self.adj_list[i][j][1]))\n",
    "\n",
    "        return list_edges\n",
    "\n",
    "    def find_edge(self,v1,v2,weight=None):\n",
    "        if self.find_vertex(v1) != None and self.find_vertex(v2) != None:\n",
    "            #Search in the list of the given source vertex\n",
    "            for i in range (0,len(self.adj_list[self.find_vertex(v1)])):\n",
    "                #if the dest vertex is in the source list, delete it\n",
    "                if self.find_vertex(v2) in self.adj_list[self.find_vertex(v1)][i]:\n",
    "                    return True\n",
    "            return None\n",
    "        else:\n",
    "            return None\n",
    "\n",
    "    def incident_edges(self,v):\n",
    "        if self.find_vertex(v) is not None:\n",
    "            incident = []\n",
    "            for e in range (0,len(self.adj_list[self.find_vertex(v)])):\n",
    "                incident.append([v,self.vertices[self.adj_list[self.find_vertex(v)][e][0]].name])\n",
    "            return incident\n",
    "        else:\n",
    "            print(\"Vertex \"+v+\" does not exist!\")\n",
    "\n",
    "    def adjacent_vertices(self,v):\n",
    "        if self.find_vertex(v) is not None:\n",
    "            adj_vert = []\n",
    "            for e in range (0,len(self.adj_list[self.find_vertex(v)])):\n",
    "                adj_vert.append(self.vertices[self.adj_list[self.find_vertex(v)][e][0]].name)\n",
    "            return adj_vert\n",
    "        else:\n",
    "            print(\"Vertex \"+v+\" does not exist!\")\n",
    "\n",
    "    def edge_cost(self,v1,v2):\n",
    "        if self.find_edge(v1,v2) is not None:\n",
    "            for i in range (0,len(self.adj_list[self.find_vertex(v1)])):\n",
    "                if self.find_vertex(v2) in self.adj_list[self.find_vertex(v1)][i]:\n",
    "                    return self.adj_list[self.find_vertex(v1)][i][1]\n",
    "        else:\n",
    "            print(\"Edge from \"+v1+\" to \"+v2+\" does not exist!\")\n",
    "\n",
    "    def path_cost(self,vert_list):\n",
    "        distance = 0\n",
    "        for i in range (0,len(vert_list) - 1):\n",
    "            distance += self.edge_cost(vert_list[i],vert_list[i+1])\n",
    "        return distance\n",
    "\n",
    "    def adjacent_to(self,v1,v2):\n",
    "        if (self.find_vertex(v1) is not None) and (self.find_vertex(v2) is not None):\n",
    "            for e in range (0,len(self.adj_list[self.find_vertex(v1)])):\n",
    "                if self.find_vertex(v2) == self.adj_list[self.find_vertex(v1)][e][0]:\n",
    "                    return True\n",
    "            return False\n",
    "        else:\n",
    "            return False"
   ]
  },
  {
   "cell_type": "markdown",
   "metadata": {},
   "source": [
    "### Edge List Class"
   ]
  },
  {
   "cell_type": "markdown",
   "metadata": {},
   "source": [
    "Similarly to the Adjacency list class, the named vertices are stored in a vertex list in the form of a Vertex object. The Edge list class uses only numbers to repersent vertices in the graph, using the index of the named vertex in the vertex list as the number."
   ]
  },
  {
   "cell_type": "markdown",
   "metadata": {},
   "source": [
    "The Edge List class is implimented via a list of Edge objects, where each element contains the source and destination vertex names."
   ]
  },
  {
   "cell_type": "code",
   "execution_count": 4,
   "metadata": {},
   "outputs": [],
   "source": [
    "class EdgeList(Graph):\n",
    "\n",
    "    def __init__(self,graph_desc=None,properties=None):\n",
    "       super().__init__(graph_desc,properties)\n",
    "       self.edges = []\n",
    "\n",
    "    def add_vertex(self,name):\n",
    "        for v in self.vertices:\n",
    "            if v.name == name:\n",
    "                return None\n",
    "        self.vertices.append(Vertex(self,name))\n",
    "\n",
    "    def delete_vertex(self,v_name):\n",
    "        if self.find_vertex(v_name) is not None:\n",
    "            for e in self.edges.copy():\n",
    "                #delete if edge contains vertex\n",
    "                if e.v1 == self.find_vertex(v_name) or e.v2 == self.find_vertex(v_name):\n",
    "                    self.edges.remove(e)\n",
    "                #shift all index values to perseve order, if you don't delete it\n",
    "                else:\n",
    "                    if e.v1 > self.find_vertex(v_name):\n",
    "                        e.v1 = e.v1 - 1\n",
    "                    if e.v2 > self.find_vertex(v_name):\n",
    "                        e.v2 = e.v2 - 1\n",
    "\n",
    "            #delete vertex from list\n",
    "            del self.vertices[self.find_vertex(v_name)]\n",
    "        else:\n",
    "            print(\"Vertex \"+v_name+\" does not exist!\")\n",
    "        \n",
    "    def add_edge(self,v1,v2,weight=None):\n",
    "        source = self.find_vertex(v1)\n",
    "        dest = self.find_vertex(v2)\n",
    "        #if vertex v1 doesnt exist, add it\n",
    "        if source == None:\n",
    "            self.add_vertex(v1)\n",
    "            source = self.find_vertex(v1)\n",
    "        #if vertex v2 doesnt exist, add it\n",
    "        if dest == None:\n",
    "            self.add_vertex(v2)\n",
    "            dest = self.find_vertex(v2)\n",
    "        #if edge doesn't already exist, add it\n",
    "        if self.find_edge(v1,v2) == None:\n",
    "            self.edges.append(Edge(self,source,dest,weight))\n",
    "            if 'digraph' not in self.properties:\n",
    "                self.edges.append(Edge(self,dest,source,weight))\n",
    "\n",
    "    def delete_edge(self,v1,v2):\n",
    "        if (self.find_vertex(v1) is not None) and (self.find_vertex(v2) is not None) and (self.find_edge(v1,v2) is not None):\n",
    "            e = self.find_edge(v1,v2)\n",
    "            if e is not None:\n",
    "                del self.edges[e]\n",
    "            if 'digraph' not in self.properties:\n",
    "                e = self.find_edge(v2,v1)\n",
    "                if e is not None:\n",
    "                    del self.edges[e]\n",
    "        else:\n",
    "            print(\"Edge from \"+v1+\" to \"+v2+\" does not exist!\")\n",
    "\n",
    "    def all_edges(self,spec):\n",
    "        all_edges = []\n",
    "        if spec == ['name']:\n",
    "            for e in self.edges:\n",
    "                all_edges.append([self.vertices[e.v1].name,self.vertices[e.v2].name,e.weight])\n",
    "        elif spec == ['edge']:\n",
    "            for e in self.edges:\n",
    "                all_edges.append(Edge(self.vertices[e.v1].name,self.vertices[e.v2].name,e.weight))\n",
    "        return all_edges\n",
    "\n",
    "    def find_edge(self,v1,v2):\n",
    "        #iterate through the entire list\n",
    "        for e in range(0,len(self.edges)):\n",
    "            #if the edge matches the v1,v2 pair, return index\n",
    "            if self.edges[e].v1 == self.find_vertex(v1) and self.edges[e].v2 == self.find_vertex(v2):\n",
    "              return e\n",
    "        return None\n",
    "\n",
    "    def incident_edges(self,v):\n",
    "        if self.find_vertex(v) is not None:\n",
    "            incident = []\n",
    "            for e in range (0,len(self.edges)):\n",
    "                if (self.edges[e].v1 == self.find_vertex(v)) or (self.edges[e].v2 == self.find_vertex(v)):\n",
    "                    incident.append([self.vertices[self.edges[e].v1].name,self.vertices[self.edges[e].v2].name])\n",
    "            return incident\n",
    "        else:\n",
    "            print(\"Vertex \"+v+\" does not exist!\")\n",
    "\n",
    "    def adjacent_vertices(self,v):\n",
    "        if self.find_vertex(v) is not None:\n",
    "            adj_vert = []\n",
    "            for e in range (0, len(self.edges)):\n",
    "                if (self.edges[e].v1 == self.find_vertex(v)) and (self.find_vertex(v) not in adj_vert):\n",
    "                    adj_vert.append(self.vertices[self.edges[e].v2].name)\n",
    "            return adj_vert\n",
    "        else:\n",
    "            print(\"Vertex \"+v+\" does not exist!\")\n",
    "\n",
    "    def edge_cost(self,v1,v2):\n",
    "        if self.find_edge(v1,v2) is not None:\n",
    "            return self.edges[self.find_edge(v1,v2)].weight\n",
    "        else:\n",
    "            print(\"Edge from \"+v1+\" to \"+v2+\" does not exist!\")\n",
    "\n",
    "    def path_cost(self,vert_list):\n",
    "        distance = 0\n",
    "        for i in range (0,len(vert_list) - 1):\n",
    "            distance += self.edge_cost(vert_list[i],vert_list[i+1])\n",
    "        return distance\n",
    "\n",
    "    def adjacent_to(self,v1,v2):\n",
    "        if (self.find_vertex(v1) is not None) and (self.find_vertex(v2) is not None):\n",
    "            if self.find_edge(v1,v2) is not None:\n",
    "                return True\n",
    "            else:\n",
    "                return False\n",
    "        else:\n",
    "            return False"
   ]
  },
  {
   "cell_type": "markdown",
   "metadata": {},
   "source": [
    "### Adjacency Matrix Class"
   ]
  },
  {
   "cell_type": "markdown",
   "metadata": {},
   "source": [
    "Similarly to the list classes above, the named vertices are stored in a vertex list in the form of a Vertex object. The Adjacency Matrix class uses only numbers to repersent vertices in the graph, using the index of the named vertex in the vertex list as the number."
   ]
  },
  {
   "cell_type": "markdown",
   "metadata": {},
   "source": [
    "The Adjacency Matrix Class uses a square 2D array where the length is the number of vertices. Each element in the matrix will be zero if there is no edge between the two vertices, -1 if there is an unweighted edge between the two vertices, or the weight if there is a weighted edge between the two vertices. For example if there is an edge between v1 and v2, Matrix[v1][v2] would equal -1, or the weight."
   ]
  },
  {
   "cell_type": "code",
   "execution_count": 5,
   "metadata": {},
   "outputs": [],
   "source": [
    "class AdjMatrix(Graph):\n",
    "    def __init__(self,graph_desc=None,properties=None):\n",
    "        super().__init__(graph_desc,properties)\n",
    "        self.matrix = []                       #2d array reperesenting adjacency matrix\n",
    "\n",
    "    def add_vertex(self,name):\n",
    "        #if the name isn't already in the graph\n",
    "        for v in self.vertices:\n",
    "            if v.name == name:\n",
    "                return None\n",
    "\n",
    "        #append new vertex\n",
    "        self.vertices.append(Vertex(self,name))\n",
    "        \n",
    "        #increase size of 2d array by one\n",
    "        temp = [x[:] for x in [[0] * len(self.vertices)] * len(self.vertices)]\n",
    "        for r in range (0,len(self.vertices)-1):\n",
    "            for c in range (0,len(self.vertices)-1):\n",
    "                temp[r][c] = self.matrix[r][c]\n",
    "        self.matrix = temp           \n",
    "\n",
    "    def delete_vertex(self,name):\n",
    "        #if the vertex actually exist\n",
    "        if self.find_vertex(name) is not None:\n",
    "            #decrease size of 2d array by one\n",
    "            for r in range (0,len(self.vertices)):\n",
    "                del self.matrix[r][self.find_vertex(name)]\n",
    "            \n",
    "            del self.matrix[self.find_vertex(name)]\n",
    "\n",
    "            #remove vertex from vertex list, then shift all memebers to the left\n",
    "            del self.vertices[self.find_vertex(name)]\n",
    "            #self.vertices.remove(name)\n",
    "\n",
    "    def add_edge(self,v1,v2,weight=None):\n",
    "        if weight is None:\n",
    "            weight = -1\n",
    "\n",
    "        #update v1 and v2 to be the indexes for the vertices\n",
    "        v1_i = self.find_vertex(v1)\n",
    "        v2_i = self.find_vertex(v2)\n",
    "\n",
    "        #check to see if vertices actually exist, if not, add them\n",
    "        if v1_i is None:\n",
    "            self.add_vertex(v1)\n",
    "            v1_i = self.find_vertex(v1)\n",
    "        if v2_i is None:\n",
    "            self.add_vertex(v2)\n",
    "            v2_i = self.find_vertex(v2)\n",
    "        \n",
    "        #if edge doens't already exist, add to matrix\n",
    "        if self.find_edge(v1,v2) == None:\n",
    "            self.matrix[v1_i][v2_i] = weight\n",
    "            if 'digraph' not in self.properties:\n",
    "                self.matrix[v2_i][v1_i] = weight\n",
    "\n",
    "    def delete_edge(self,v1,v2):\n",
    "        \n",
    "        #update v1 and v2 to be the indexes for the vertices\n",
    "        v1_i = self.find_vertex(v1)\n",
    "        v2_i = self.find_vertex(v2)\n",
    "\n",
    "        if v1_i != None and v2_i != None:\n",
    "            #delete edge from matrix\n",
    "            self.matrix[v1_i][v2_i] = 0\n",
    "            if 'digraph' not in self.properties:\n",
    "                self.matrix[v2_i][v1_i] = 0\n",
    "\n",
    "    def all_edges(self,spec):\n",
    "        all_edges=[]\n",
    "        if spec == ['name']:\n",
    "            for r in range(len(self.vertices)):\n",
    "                for c in range(len(self.vertices)):\n",
    "                    if self.matrix[r][c] > 0:\n",
    "                        all_edges.append([self.vertices[r].name,self.vertices[c].name,self.matrix[r][c]]) \n",
    "                    elif self.matrix[r][c] == -1:\n",
    "                        all_edges.append([self.vertices[r].name,self.vertices[c].name,None])\n",
    "        elif spec == ['edge']:\n",
    "            for r in range(len(self.vertices)):\n",
    "                for c in range(len(self.vertices)):\n",
    "                    if self.matrix[r][c] > 0:\n",
    "                        all_edges.append(Edge(self.vertices[r].name,self.vertices[c].name,self.matrix[r][c])) \n",
    "                    elif self.matrix[r][c] == -1:\n",
    "                        all_edges.append(Edge(self.vertices[r].name,self.vertices[c].name,None))\n",
    "        return all_edges\n",
    "\n",
    "    def find_edge(self,v1,v2,weight=None):\n",
    "        if self.find_vertex(v1) != None and self.find_vertex(v2) != None:\n",
    "            if (self.matrix[self.find_vertex(v1)][self.find_vertex(v2)] > 0) or (self.matrix[self.find_vertex(v1)][self.find_vertex(v2)] == -1):\n",
    "                return True\n",
    "            else:\n",
    "                return None\n",
    "        else:\n",
    "            return None\n",
    "\n",
    "    def incident_edges(self,vertex):\n",
    "        if self.find_vertex(vertex) is not None:\n",
    "            edge_list = []\n",
    "            for c in range (0, len(self.vertices)):\n",
    "                if self.matrix[self.find_vertex(vertex)][c] > 0:\n",
    "                    edge_list.append([vertex,self.vertices[c].name])\n",
    "            return edge_list\n",
    "        else:\n",
    "            print(\"Vertex \"+vertex+\" does not exist!\")\n",
    "\n",
    "    def adjacent_vertices(self,v):\n",
    "        if self.find_vertex(v) is not None:\n",
    "            adj_vert = []\n",
    "            for c in range (0, len(self.vertices)):\n",
    "                if (self.matrix[self.find_vertex(v)][c] > 0) or (self.matrix[self.find_vertex(v)][c] == -1):\n",
    "                    adj_vert.append(self.vertices[c].name)\n",
    "            return adj_vert\n",
    "        else:\n",
    "            print(\"Vertex \"+v+\" does not exist!\")\n",
    "\n",
    "    def edge_cost(self,v1,v2):\n",
    "        #update v1 and v2 to be the indexes for the vertices\n",
    "        v1_i = self.find_vertex(v1)\n",
    "        v2_i = self.find_vertex(v2)\n",
    "        if v1_i != None and v2_i != None:\n",
    "            return self.matrix[v1_i][v2_i]\n",
    "\n",
    "    def path_cost(self,vert_list):\n",
    "        distance = 0\n",
    "        for i in range (0,len(vert_list) - 1):\n",
    "            distance += self.edge_cost(vert_list[i],vert_list[i+1])\n",
    "            #if graph is not weighted\n",
    "            if distance == -1:\n",
    "                return None\n",
    "        return distance\n",
    "\n",
    "    def adjacent_to(self,v1,v2):\n",
    "        if (self.find_vertex(v1) is not None) and (self.find_vertex(v2) is not None):\n",
    "            if self.matrix[self.find_vertex(v1)][self.find_vertex(v2)] > 0:\n",
    "                return True\n",
    "            else:\n",
    "                return False\n",
    "        else:\n",
    "            return False"
   ]
  },
  {
   "cell_type": "markdown",
   "metadata": {},
   "source": [
    "## Driver Code"
   ]
  },
  {
   "cell_type": "markdown",
   "metadata": {},
   "source": [
    "This section will teach us how to create and use these different classes."
   ]
  },
  {
   "cell_type": "markdown",
   "metadata": {},
   "source": [
    "Lets start by creating a few graphs..."
   ]
  },
  {
   "cell_type": "code",
   "execution_count": 6,
   "metadata": {},
   "outputs": [],
   "source": [
    "a = AdjList(['graph'])"
   ]
  },
  {
   "cell_type": "markdown",
   "metadata": {},
   "source": [
    "This will create a undirected graph, it can be weighted or unweighted based on how we add edges, we will look at that later."
   ]
  },
  {
   "cell_type": "markdown",
   "metadata": {},
   "source": [
    "Lets make directed graph now."
   ]
  },
  {
   "cell_type": "code",
   "execution_count": 7,
   "metadata": {},
   "outputs": [],
   "source": [
    "b = AdjList(['digraph'])"
   ]
  },
  {
   "cell_type": "markdown",
   "metadata": {},
   "source": [
    "This will create a directed graph, it can be weighted or unweighted based on how we add edges, like before."
   ]
  },
  {
   "cell_type": "markdown",
   "metadata": {},
   "source": [
    "You can make the Edge List and Adjacency Matrix graphs the same way you can the Adjacency List as shown above, like this:"
   ]
  },
  {
   "cell_type": "code",
   "execution_count": 8,
   "metadata": {},
   "outputs": [],
   "source": [
    "c = EdgeList(['graph'])\n",
    "d = EdgeList(['digraph'])\n",
    "e = AdjMatrix(['graph'])\n",
    "f = AdjMatrix(['digraph'])"
   ]
  },
  {
   "cell_type": "markdown",
   "metadata": {},
   "source": [
    "Everything that we do to each graph will be the exact same, so lets just use our original Adjacency List example."
   ]
  },
  {
   "cell_type": "markdown",
   "metadata": {},
   "source": [
    "Now lets add some vertices to our Adjacency List graph. Vertices can be named anything we want."
   ]
  },
  {
   "cell_type": "code",
   "execution_count": 9,
   "metadata": {},
   "outputs": [],
   "source": [
    "a.add_vertex('first')\n",
    "a.add_vertex('second')\n",
    "a.add_vertex('third')"
   ]
  },
  {
   "cell_type": "markdown",
   "metadata": {},
   "source": [
    "Lets also add these same vertices to our directed graph so we can see the difference between the two later."
   ]
  },
  {
   "cell_type": "code",
   "execution_count": 10,
   "metadata": {},
   "outputs": [],
   "source": [
    "b.add_vertex('first')\n",
    "b.add_vertex('second')\n",
    "b.add_vertex('third')"
   ]
  },
  {
   "cell_type": "markdown",
   "metadata": {},
   "source": [
    "This is a pretty boring graph, so lets add some edges. For example's sake, lets have our undirect graph an unweighted one with our direct graph being a weighted one."
   ]
  },
  {
   "cell_type": "code",
   "execution_count": 11,
   "metadata": {},
   "outputs": [],
   "source": [
    "a.add_edge('first','second')\n",
    "a.add_edge('second','third')\n",
    "a.add_edge('third','first')\n",
    "\n",
    "b.add_edge('first','second',3)\n",
    "b.add_edge('second','third',3)\n",
    "b.add_edge('third','first',1)"
   ]
  },
  {
   "cell_type": "markdown",
   "metadata": {},
   "source": [
    "Adding edges are pretty straight forward (pun intended), we can see weights are just a third optional argument."
   ]
  },
  {
   "cell_type": "markdown",
   "metadata": {},
   "source": [
    "We now have a nice triangle graph. A nice thing to do would be to print out our results so we can see what the graph looks like. Lets start by printing our vertices and edges."
   ]
  },
  {
   "cell_type": "code",
   "execution_count": 12,
   "metadata": {},
   "outputs": [
    {
     "name": "stdout",
     "output_type": "stream",
     "text": [
      "***Undirected Graph***\n",
      "['first', 'second', 'third']\n",
      "\n",
      "\n",
      "[['first', 'second', None], ['first', 'third', None], ['second', 'first', None], ['second', 'third', None], ['third', 'second', None], ['third', 'first', None]]\n",
      "\n",
      "\n",
      "***Directed Graph***\n",
      "['first', 'second', 'third']\n",
      "\n",
      "\n",
      "[['first', 'second', 3], ['second', 'third', 3], ['third', 'first', 1]]\n"
     ]
    }
   ],
   "source": [
    "print('***Undirected Graph***')\n",
    "print(a.all_vertices(['name']))\n",
    "print('\\n')\n",
    "print(a.all_edges(['name']))\n",
    "print('\\n')\n",
    "print('***Directed Graph***')\n",
    "print(b.all_vertices(['name']))\n",
    "print('\\n')\n",
    "print(b.all_edges(['name']))"
   ]
  },
  {
   "cell_type": "markdown",
   "metadata": {},
   "source": [
    "We can see that our unweighted graph just prints 'None' if there is no edge weight. We can also see that when we added an edge to our undirected graph, it also added its inverse. This is very handy!"
   ]
  },
  {
   "cell_type": "markdown",
   "metadata": {},
   "source": [
    "NOTE: for the all_vertices and all_edges functions, for arguments they take ['vert'] and ['edge'] respectively to return a list of Vertex or Edge objects. They also both take ['name'] to return a list of the vertex names rather than Vertex or Edge objects."
   ]
  },
  {
   "cell_type": "markdown",
   "metadata": {},
   "source": [
    "We can also print a list version of the graph as shown below:"
   ]
  },
  {
   "cell_type": "code",
   "execution_count": 13,
   "metadata": {},
   "outputs": [
    {
     "name": "stdout",
     "output_type": "stream",
     "text": [
      "***Undirected Graph***\n",
      "['graph', ['first'], ['second'], ['third'], ['first', 'second', None], ['first', 'third', None], ['second', 'first', None], ['second', 'third', None], ['third', 'second', None], ['third', 'first', None]]\n",
      "\n",
      "\n",
      "***Directed Graph***\n",
      "['digraph', ['first'], ['second'], ['third'], ['first', 'second', 3], ['second', 'third', 3], ['third', 'first', 1]]\n"
     ]
    }
   ],
   "source": [
    "print('***Undirected Graph***')\n",
    "print(a.to_list())\n",
    "print('\\n')\n",
    "print('***Directed Graph***')\n",
    "print(b.to_list())"
   ]
  },
  {
   "cell_type": "markdown",
   "metadata": {},
   "source": [
    "This can be useful, but even more usefull is the print function to_gv(), lets print with that instead."
   ]
  },
  {
   "cell_type": "code",
   "execution_count": 14,
   "metadata": {},
   "outputs": [
    {
     "name": "stdout",
     "output_type": "stream",
     "text": [
      "***Undirected Graph***\n",
      "graph  {\n",
      "    first\n",
      "    second\n",
      "    third\n",
      "    first  --  second   [weight=\" None \"]\n",
      "    first  --  third   [weight=\" None \"]\n",
      "    second  --  first   [weight=\" None \"]\n",
      "    second  --  third   [weight=\" None \"]\n",
      "    third  --  second   [weight=\" None \"]\n",
      "    third  --  first   [weight=\" None \"]\n",
      "}\n",
      "None\n",
      "\n",
      "\n",
      "***Directed Graph***\n",
      "digraph  {\n",
      "    first\n",
      "    second\n",
      "    third\n",
      "    first  ->  second   [weight=\" 3 \"]\n",
      "    second  ->  third   [weight=\" 3 \"]\n",
      "    third  ->  first   [weight=\" 1 \"]\n",
      "}\n",
      "None\n"
     ]
    }
   ],
   "source": [
    "print('***Undirected Graph***')\n",
    "print(a.to_gv())\n",
    "print('\\n')\n",
    "print('***Directed Graph***')\n",
    "print(b.to_gv())"
   ]
  },
  {
   "cell_type": "markdown",
   "metadata": {},
   "source": [
    "Much better! This will be used a lot during your work!"
   ]
  },
  {
   "cell_type": "markdown",
   "metadata": {},
   "source": [
    "For the find_edge and find_vertex functions."
   ]
  },
  {
   "cell_type": "markdown",
   "metadata": {},
   "source": [
    "The find_vertex function takes a vertex as the argument and returns the index of the vertex in the vertex list or None if the vertex does not exist."
   ]
  },
  {
   "cell_type": "code",
   "execution_count": 15,
   "metadata": {},
   "outputs": [
    {
     "name": "stdout",
     "output_type": "stream",
     "text": [
      "0\n",
      "None\n"
     ]
    }
   ],
   "source": [
    "print(a.find_vertex('first'))\n",
    "print(a.find_vertex('foo'))"
   ]
  },
  {
   "cell_type": "markdown",
   "metadata": {},
   "source": [
    "Find_edge is very similar, it will return None if the edge is not found. For the AdjList and AdjMatrix, it will return True if it does exist. If you are using the EdgeList, it will return the index of the Edge in the edge list."
   ]
  },
  {
   "cell_type": "code",
   "execution_count": 16,
   "metadata": {},
   "outputs": [
    {
     "name": "stdout",
     "output_type": "stream",
     "text": [
      "True\n",
      "None\n"
     ]
    }
   ],
   "source": [
    "print(a.find_edge('first','second'))\n",
    "print(a.find_edge('foo','bar'))"
   ]
  },
  {
   "cell_type": "markdown",
   "metadata": {},
   "source": [
    "Lets now get to our more heavy graph theory functions like incident_edges, adjacent_vertices, incident_to and adjacent_to. "
   ]
  },
  {
   "cell_type": "markdown",
   "metadata": {},
   "source": [
    "Lets use our undirect graph for these examples, starting with incident_edges and incident_to."
   ]
  },
  {
   "cell_type": "markdown",
   "metadata": {},
   "source": [
    "Incident_Edges will return a list of all edges incident on a vertex, so lets see what vertices are incident on the vertex 'first'."
   ]
  },
  {
   "cell_type": "code",
   "execution_count": 17,
   "metadata": {},
   "outputs": [
    {
     "name": "stdout",
     "output_type": "stream",
     "text": [
      "[['first', 'second'], ['first', 'third']]\n",
      "\n",
      "Is vertex 'second' incident on 'first'?\n",
      "\n",
      "True\n"
     ]
    }
   ],
   "source": [
    "print(a.incident_edges('first'))\n",
    "print('\\n'+'Is vertex \\'second\\' incident on \\'first\\'?\\n')\n",
    "print(a.incident_to('first',['first','second']))"
   ]
  },
  {
   "cell_type": "markdown",
   "metadata": {},
   "source": [
    "Now for our adjacent_vertices and adjacent_to."
   ]
  },
  {
   "cell_type": "code",
   "execution_count": 18,
   "metadata": {},
   "outputs": [
    {
     "name": "stdout",
     "output_type": "stream",
     "text": [
      "['second', 'third']\n",
      "\n",
      "Is vertex 'second' adjacent to 'first'?\n",
      "\n",
      "True\n"
     ]
    }
   ],
   "source": [
    "print(a.adjacent_vertices('first'))\n",
    "print('\\n'+'Is vertex \\'second\\' adjacent to \\'first\\'?\\n')\n",
    "print(a.adjacent_to('first','second'))"
   ]
  },
  {
   "cell_type": "markdown",
   "metadata": {},
   "source": [
    "The next two functions are edge_cost, which returns the weight of a given edge, and path cost, which returns the weighted cost of a given path. We will have to use our directed weighted graph b."
   ]
  },
  {
   "cell_type": "code",
   "execution_count": 19,
   "metadata": {},
   "outputs": [
    {
     "name": "stdout",
     "output_type": "stream",
     "text": [
      "Edge cost of 'first' -> 'second'\n",
      "3\n",
      "Path cost from 'first' -> 'second' -> 'third' -> 'first'\n"
     ]
    },
    {
     "ename": "NameError",
     "evalue": "name 'g' is not defined",
     "output_type": "error",
     "traceback": [
      "\u001b[1;31m---------------------------------------------------------------------------\u001b[0m",
      "\u001b[1;31mNameError\u001b[0m                                 Traceback (most recent call last)",
      "\u001b[1;32m<ipython-input-19-35c969d968c2>\u001b[0m in \u001b[0;36m<module>\u001b[1;34m\u001b[0m\n\u001b[0;32m      2\u001b[0m \u001b[0mprint\u001b[0m\u001b[1;33m(\u001b[0m\u001b[0mb\u001b[0m\u001b[1;33m.\u001b[0m\u001b[0medge_cost\u001b[0m\u001b[1;33m(\u001b[0m\u001b[1;34m\"first\"\u001b[0m\u001b[1;33m,\u001b[0m\u001b[1;34m\"second\"\u001b[0m\u001b[1;33m)\u001b[0m\u001b[1;33m)\u001b[0m\u001b[1;33m\u001b[0m\u001b[1;33m\u001b[0m\u001b[0m\n\u001b[0;32m      3\u001b[0m \u001b[0mprint\u001b[0m\u001b[1;33m(\u001b[0m\u001b[1;34m'Path cost from \\'first\\' -> \\'second\\' -> \\'third\\' -> \\'first\\''\u001b[0m\u001b[1;33m)\u001b[0m\u001b[1;33m\u001b[0m\u001b[1;33m\u001b[0m\u001b[0m\n\u001b[1;32m----> 4\u001b[1;33m \u001b[0mprint\u001b[0m\u001b[1;33m(\u001b[0m\u001b[0mg\u001b[0m\u001b[1;33m.\u001b[0m\u001b[0mpath_cost\u001b[0m\u001b[1;33m(\u001b[0m\u001b[1;33m[\u001b[0m\u001b[1;34m'first'\u001b[0m\u001b[1;33m,\u001b[0m\u001b[1;34m'second'\u001b[0m\u001b[1;33m,\u001b[0m\u001b[1;34m'third'\u001b[0m\u001b[1;33m,\u001b[0m\u001b[1;34m'first'\u001b[0m\u001b[1;33m]\u001b[0m\u001b[1;33m)\u001b[0m\u001b[1;33m)\u001b[0m\u001b[1;33m\u001b[0m\u001b[1;33m\u001b[0m\u001b[0m\n\u001b[0m",
      "\u001b[1;31mNameError\u001b[0m: name 'g' is not defined"
     ]
    }
   ],
   "source": [
    "print('Edge cost of \\'first\\' -> \\'second\\'')\n",
    "print(b.edge_cost(\"first\",\"second\"))\n",
    "print('Path cost from \\'first\\' -> \\'second\\' -> \\'third\\' -> \\'first\\'')\n",
    "print(g.path_cost(['first','second','third','first']))"
   ]
  },
  {
   "cell_type": "markdown",
   "metadata": {},
   "source": [
    "Our final and most interest method is the depth first traversal. This will result in a new graph of the given type (in our example, an Adjacency List) that is a spanning tree starting at a different vertex. Lets start with the depth first traversal around the vertex 'third' for both our undirected and directed graphs."
   ]
  },
  {
   "cell_type": "code",
   "execution_count": null,
   "metadata": {},
   "outputs": [],
   "source": [
    "print('***Undirected Graph***')\n",
    "a.dft('third').to_gv()\n",
    "print('\\n')\n",
    "print('***Directed Graph***')\n",
    "b.dft('third').to_gv()"
   ]
  },
  {
   "cell_type": "markdown",
   "metadata": {},
   "source": [
    "That is the end of it! Thank you for using my notebook, I hope you find it useful.\n",
    "\n",
    "If you have any questions please email me at nicholas.soucy@maine.edu\n",
    "\n",
    "Happy Coding!"
   ]
  }
 ],
 "metadata": {
  "kernelspec": {
   "display_name": "Python 3",
   "language": "python",
   "name": "python3"
  },
  "language_info": {
   "codemirror_mode": {
    "name": "ipython",
    "version": 3
   },
   "file_extension": ".py",
   "mimetype": "text/x-python",
   "name": "python",
   "nbconvert_exporter": "python",
   "pygments_lexer": "ipython3",
   "version": "3.7.3"
  }
 },
 "nbformat": 4,
 "nbformat_minor": 2
}
